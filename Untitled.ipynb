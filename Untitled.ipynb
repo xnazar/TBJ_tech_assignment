{
 "cells": [
  {
   "cell_type": "markdown",
   "id": "a8fae584",
   "metadata": {},
   "source": [
    "# Toronto Blue Jays - Assignment\n",
    "### Date: Sept 5, 2023\n",
    "### By: Xenel Nazar\n",
    "### Contact Info: xenel.nazar@gmail.com"
   ]
  },
  {
   "cell_type": "markdown",
   "id": "934b6850",
   "metadata": {},
   "source": [
    "### Introduction"
   ]
  },
  {
   "cell_type": "markdown",
   "id": "46160c42",
   "metadata": {},
   "source": [
    "The following notebook is in regards to my submission for the Toronto Blue Jays Technical Assignment. \n",
    "\n",
    "Provided are two files `deploy,csv` and `training.csv` which contain the following columns:\n",
    "- `InPlay` – A binary column indicating if the batter put the ball in play (1 = in play, 0 = not in play)\n",
    "- `Velo` – The velocity of the pitch at release (in mph)\n",
    "- `SpinRate` – The Spin Rate of the pitch at release (in rpm)\n",
    "- `HorzBreak` – The amount of movement the pitch had in the horizontal direction (in inches)\n",
    "- `InducedVertBreak` – The amount of movement (in inches) the pitch had in the vertical direction after accounting for the effects of gravity. A positive value means the pitch would move up in a gravity-free environment that still had the same air resistance.\n",
    "\n",
    "\n",
    "We will then utilize the data to answer the following questions:\n",
    "\n",
    "A right-handed pitcher is curious about how velocity, movement, and spin rates on fastballs affect the chances of batters putting the ball in play. Attached are two CSV files. Both files contain 10,000 random pitches of fastballs thrown in the strike zone by right-handed pitchers to right-handed batters (swings and takes are both included). One of them (training.csv) also includes whether the batter was able to put the ball in play.\n",
    "\n",
    "1. Predict the chance of a pitch being put in play. Please use this model to predict the chance of each pitch in the “deploy.csv” file being put in play and return a CSV with your predictions.\n",
    "2. In one paragraph, please explain your process and reasoning for any decisions you made in Question 1.\n",
    "3. In one or two sentences, please describe to the pitcher how these 4 variables affect the batter’s ability to put the ball in play. You can also include one plot or table to show to the pitcher if you think it would help.\n",
    "4. In one or two sentences, please describe what you would see as the next steps with your model and/or results if you were in the analyst role and had another week to work on the question posed by the pitcher.\n",
    "\n"
   ]
  },
  {
   "cell_type": "markdown",
   "id": "d177374b",
   "metadata": {},
   "source": [
    "#### Import Libraries\n",
    "We will first load the libraries needed to assist with Data Wrangling and Data Cleaning to help prepare for the next steps in EDA, as well as Modeling."
   ]
  },
  {
   "cell_type": "code",
   "execution_count": 2,
   "id": "14caf83b",
   "metadata": {},
   "outputs": [],
   "source": [
    "# import libraries\n",
    "import numpy as np\n",
    "import pandas as pd\n",
    "import matplotlib.pyplot as plt\n",
    "import plotly.express as px"
   ]
  },
  {
   "cell_type": "code",
   "execution_count": 7,
   "id": "7d0d0d90",
   "metadata": {},
   "outputs": [],
   "source": [
    "# import train data\n",
    "train = pd.read_csv('training.csv')"
   ]
  },
  {
   "cell_type": "code",
   "execution_count": 9,
   "id": "f526dba2",
   "metadata": {},
   "outputs": [
    {
     "data": {
      "text/html": [
       "<div>\n",
       "<style scoped>\n",
       "    .dataframe tbody tr th:only-of-type {\n",
       "        vertical-align: middle;\n",
       "    }\n",
       "\n",
       "    .dataframe tbody tr th {\n",
       "        vertical-align: top;\n",
       "    }\n",
       "\n",
       "    .dataframe thead th {\n",
       "        text-align: right;\n",
       "    }\n",
       "</style>\n",
       "<table border=\"1\" class=\"dataframe\">\n",
       "  <thead>\n",
       "    <tr style=\"text-align: right;\">\n",
       "      <th></th>\n",
       "      <th>InPlay</th>\n",
       "      <th>Velo</th>\n",
       "      <th>SpinRate</th>\n",
       "      <th>HorzBreak</th>\n",
       "      <th>InducedVertBreak</th>\n",
       "    </tr>\n",
       "  </thead>\n",
       "  <tbody>\n",
       "    <tr>\n",
       "      <th>0</th>\n",
       "      <td>0</td>\n",
       "      <td>95.33</td>\n",
       "      <td>2893.0</td>\n",
       "      <td>10.68</td>\n",
       "      <td>21.33</td>\n",
       "    </tr>\n",
       "    <tr>\n",
       "      <th>1</th>\n",
       "      <td>0</td>\n",
       "      <td>94.41</td>\n",
       "      <td>2038.0</td>\n",
       "      <td>17.13</td>\n",
       "      <td>5.77</td>\n",
       "    </tr>\n",
       "    <tr>\n",
       "      <th>2</th>\n",
       "      <td>0</td>\n",
       "      <td>90.48</td>\n",
       "      <td>2183.0</td>\n",
       "      <td>6.61</td>\n",
       "      <td>15.39</td>\n",
       "    </tr>\n",
       "    <tr>\n",
       "      <th>3</th>\n",
       "      <td>0</td>\n",
       "      <td>93.04</td>\n",
       "      <td>2279.0</td>\n",
       "      <td>9.33</td>\n",
       "      <td>14.57</td>\n",
       "    </tr>\n",
       "    <tr>\n",
       "      <th>4</th>\n",
       "      <td>0</td>\n",
       "      <td>95.17</td>\n",
       "      <td>2384.0</td>\n",
       "      <td>6.99</td>\n",
       "      <td>17.62</td>\n",
       "    </tr>\n",
       "    <tr>\n",
       "      <th>5</th>\n",
       "      <td>0</td>\n",
       "      <td>95.00</td>\n",
       "      <td>2580.0</td>\n",
       "      <td>7.16</td>\n",
       "      <td>16.07</td>\n",
       "    </tr>\n",
       "    <tr>\n",
       "      <th>6</th>\n",
       "      <td>0</td>\n",
       "      <td>97.94</td>\n",
       "      <td>2376.0</td>\n",
       "      <td>12.29</td>\n",
       "      <td>18.11</td>\n",
       "    </tr>\n",
       "    <tr>\n",
       "      <th>7</th>\n",
       "      <td>0</td>\n",
       "      <td>95.42</td>\n",
       "      <td>2103.0</td>\n",
       "      <td>7.98</td>\n",
       "      <td>10.98</td>\n",
       "    </tr>\n",
       "    <tr>\n",
       "      <th>8</th>\n",
       "      <td>0</td>\n",
       "      <td>94.12</td>\n",
       "      <td>2535.0</td>\n",
       "      <td>5.68</td>\n",
       "      <td>18.59</td>\n",
       "    </tr>\n",
       "    <tr>\n",
       "      <th>9</th>\n",
       "      <td>0</td>\n",
       "      <td>93.23</td>\n",
       "      <td>2242.0</td>\n",
       "      <td>4.10</td>\n",
       "      <td>16.95</td>\n",
       "    </tr>\n",
       "  </tbody>\n",
       "</table>\n",
       "</div>"
      ],
      "text/plain": [
       "   InPlay   Velo  SpinRate  HorzBreak  InducedVertBreak\n",
       "0       0  95.33    2893.0      10.68             21.33\n",
       "1       0  94.41    2038.0      17.13              5.77\n",
       "2       0  90.48    2183.0       6.61             15.39\n",
       "3       0  93.04    2279.0       9.33             14.57\n",
       "4       0  95.17    2384.0       6.99             17.62\n",
       "5       0  95.00    2580.0       7.16             16.07\n",
       "6       0  97.94    2376.0      12.29             18.11\n",
       "7       0  95.42    2103.0       7.98             10.98\n",
       "8       0  94.12    2535.0       5.68             18.59\n",
       "9       0  93.23    2242.0       4.10             16.95"
      ]
     },
     "execution_count": 9,
     "metadata": {},
     "output_type": "execute_result"
    }
   ],
   "source": [
    "train.head(10)"
   ]
  },
  {
   "cell_type": "code",
   "execution_count": 10,
   "id": "42062adf",
   "metadata": {},
   "outputs": [
    {
     "name": "stdout",
     "output_type": "stream",
     "text": [
      "<class 'pandas.core.frame.DataFrame'>\n",
      "RangeIndex: 10000 entries, 0 to 9999\n",
      "Data columns (total 5 columns):\n",
      " #   Column            Non-Null Count  Dtype  \n",
      "---  ------            --------------  -----  \n",
      " 0   InPlay            10000 non-null  int64  \n",
      " 1   Velo              10000 non-null  float64\n",
      " 2   SpinRate          9994 non-null   float64\n",
      " 3   HorzBreak         10000 non-null  float64\n",
      " 4   InducedVertBreak  10000 non-null  float64\n",
      "dtypes: float64(4), int64(1)\n",
      "memory usage: 390.8 KB\n"
     ]
    }
   ],
   "source": [
    "train.info()"
   ]
  },
  {
   "cell_type": "code",
   "execution_count": 19,
   "id": "378302bb",
   "metadata": {},
   "outputs": [],
   "source": [
    "# import deply data\n",
    "deploy = pd.read_csv('deploy.csv')"
   ]
  },
  {
   "cell_type": "code",
   "execution_count": 20,
   "id": "dfed6c4a",
   "metadata": {},
   "outputs": [
    {
     "data": {
      "text/html": [
       "<div>\n",
       "<style scoped>\n",
       "    .dataframe tbody tr th:only-of-type {\n",
       "        vertical-align: middle;\n",
       "    }\n",
       "\n",
       "    .dataframe tbody tr th {\n",
       "        vertical-align: top;\n",
       "    }\n",
       "\n",
       "    .dataframe thead th {\n",
       "        text-align: right;\n",
       "    }\n",
       "</style>\n",
       "<table border=\"1\" class=\"dataframe\">\n",
       "  <thead>\n",
       "    <tr style=\"text-align: right;\">\n",
       "      <th></th>\n",
       "      <th>Velo</th>\n",
       "      <th>SpinRate</th>\n",
       "      <th>HorzBreak</th>\n",
       "      <th>InducedVertBreak</th>\n",
       "    </tr>\n",
       "  </thead>\n",
       "  <tbody>\n",
       "    <tr>\n",
       "      <th>0</th>\n",
       "      <td>94.72</td>\n",
       "      <td>2375.0</td>\n",
       "      <td>3.10</td>\n",
       "      <td>18.15</td>\n",
       "    </tr>\n",
       "    <tr>\n",
       "      <th>1</th>\n",
       "      <td>95.25</td>\n",
       "      <td>2033.0</td>\n",
       "      <td>11.26</td>\n",
       "      <td>14.50</td>\n",
       "    </tr>\n",
       "    <tr>\n",
       "      <th>2</th>\n",
       "      <td>92.61</td>\n",
       "      <td>2389.0</td>\n",
       "      <td>11.00</td>\n",
       "      <td>21.93</td>\n",
       "    </tr>\n",
       "    <tr>\n",
       "      <th>3</th>\n",
       "      <td>94.94</td>\n",
       "      <td>2360.0</td>\n",
       "      <td>6.84</td>\n",
       "      <td>18.11</td>\n",
       "    </tr>\n",
       "    <tr>\n",
       "      <th>4</th>\n",
       "      <td>97.42</td>\n",
       "      <td>2214.0</td>\n",
       "      <td>16.70</td>\n",
       "      <td>13.38</td>\n",
       "    </tr>\n",
       "    <tr>\n",
       "      <th>5</th>\n",
       "      <td>95.98</td>\n",
       "      <td>2495.0</td>\n",
       "      <td>11.25</td>\n",
       "      <td>17.12</td>\n",
       "    </tr>\n",
       "    <tr>\n",
       "      <th>6</th>\n",
       "      <td>94.88</td>\n",
       "      <td>1998.0</td>\n",
       "      <td>15.13</td>\n",
       "      <td>15.22</td>\n",
       "    </tr>\n",
       "    <tr>\n",
       "      <th>7</th>\n",
       "      <td>92.73</td>\n",
       "      <td>2049.0</td>\n",
       "      <td>1.55</td>\n",
       "      <td>18.47</td>\n",
       "    </tr>\n",
       "    <tr>\n",
       "      <th>8</th>\n",
       "      <td>92.39</td>\n",
       "      <td>1955.0</td>\n",
       "      <td>18.15</td>\n",
       "      <td>7.25</td>\n",
       "    </tr>\n",
       "    <tr>\n",
       "      <th>9</th>\n",
       "      <td>95.77</td>\n",
       "      <td>1976.0</td>\n",
       "      <td>10.04</td>\n",
       "      <td>14.56</td>\n",
       "    </tr>\n",
       "  </tbody>\n",
       "</table>\n",
       "</div>"
      ],
      "text/plain": [
       "    Velo  SpinRate  HorzBreak  InducedVertBreak\n",
       "0  94.72    2375.0       3.10             18.15\n",
       "1  95.25    2033.0      11.26             14.50\n",
       "2  92.61    2389.0      11.00             21.93\n",
       "3  94.94    2360.0       6.84             18.11\n",
       "4  97.42    2214.0      16.70             13.38\n",
       "5  95.98    2495.0      11.25             17.12\n",
       "6  94.88    1998.0      15.13             15.22\n",
       "7  92.73    2049.0       1.55             18.47\n",
       "8  92.39    1955.0      18.15              7.25\n",
       "9  95.77    1976.0      10.04             14.56"
      ]
     },
     "execution_count": 20,
     "metadata": {},
     "output_type": "execute_result"
    }
   ],
   "source": [
    "deploy.head(10)"
   ]
  },
  {
   "cell_type": "code",
   "execution_count": 21,
   "id": "bec0b1f7",
   "metadata": {},
   "outputs": [
    {
     "name": "stdout",
     "output_type": "stream",
     "text": [
      "<class 'pandas.core.frame.DataFrame'>\n",
      "RangeIndex: 10000 entries, 0 to 9999\n",
      "Data columns (total 4 columns):\n",
      " #   Column            Non-Null Count  Dtype  \n",
      "---  ------            --------------  -----  \n",
      " 0   Velo              10000 non-null  float64\n",
      " 1   SpinRate          9987 non-null   float64\n",
      " 2   HorzBreak         10000 non-null  float64\n",
      " 3   InducedVertBreak  10000 non-null  float64\n",
      "dtypes: float64(4)\n",
      "memory usage: 312.6 KB\n"
     ]
    }
   ],
   "source": [
    "deploy.info()"
   ]
  },
  {
   "cell_type": "markdown",
   "id": "3aff23e7",
   "metadata": {},
   "source": [
    "We can see that the deploy csv file, does not include the `InPlay` column, which is expected based on the rationale that this will be our predictions based on our model."
   ]
  },
  {
   "cell_type": "markdown",
   "id": "ccf0b51e",
   "metadata": {},
   "source": [
    "#### Verify Null Values\n",
    "We can see from the info for the train csv file, we have some null values under the `SpinRate` column. We can also see some null values in the `SpinRate` column in our deploy data as well."
   ]
  },
  {
   "cell_type": "code",
   "execution_count": 11,
   "id": "4c8bb150",
   "metadata": {},
   "outputs": [
    {
     "name": "stdout",
     "output_type": "stream",
     "text": [
      "Total number of SpinRate null values: 6\n",
      "The total number of null equates to: 0.06 %\n"
     ]
    }
   ],
   "source": [
    "x = train['SpinRate'].isnull().sum()\n",
    "y = round((x/train.shape[0])*100,2)\n",
    "print(f\"Total number of SpinRate null values:\",x)\n",
    "print(f\"The total number of null equates to:\", y, \"%\")"
   ]
  },
  {
   "cell_type": "markdown",
   "id": "5ae0ca04",
   "metadata": {},
   "source": [
    "For our train data, we can see that the null values equate to 0.06% of all total values. Based on this we can go forward an remove the rows with the listed null values."
   ]
  },
  {
   "cell_type": "code",
   "execution_count": 12,
   "id": "11979de6",
   "metadata": {},
   "outputs": [],
   "source": [
    "# drop null values\n",
    "train.dropna(inplace=True)"
   ]
  },
  {
   "cell_type": "code",
   "execution_count": 13,
   "id": "36d105aa",
   "metadata": {},
   "outputs": [],
   "source": [
    "# reset index\n",
    "train.reset_index(drop = True, inplace = True)"
   ]
  },
  {
   "cell_type": "code",
   "execution_count": 14,
   "id": "5e0bb80f",
   "metadata": {},
   "outputs": [
    {
     "name": "stdout",
     "output_type": "stream",
     "text": [
      "<class 'pandas.core.frame.DataFrame'>\n",
      "RangeIndex: 9994 entries, 0 to 9993\n",
      "Data columns (total 5 columns):\n",
      " #   Column            Non-Null Count  Dtype  \n",
      "---  ------            --------------  -----  \n",
      " 0   InPlay            9994 non-null   int64  \n",
      " 1   Velo              9994 non-null   float64\n",
      " 2   SpinRate          9994 non-null   float64\n",
      " 3   HorzBreak         9994 non-null   float64\n",
      " 4   InducedVertBreak  9994 non-null   float64\n",
      "dtypes: float64(4), int64(1)\n",
      "memory usage: 390.5 KB\n"
     ]
    }
   ],
   "source": [
    "# verify\n",
    "train.info()"
   ]
  },
  {
   "cell_type": "markdown",
   "id": "2b739572",
   "metadata": {},
   "source": [
    "The null values have been dropped from our train data. "
   ]
  },
  {
   "cell_type": "code",
   "execution_count": 22,
   "id": "95012e9f",
   "metadata": {},
   "outputs": [
    {
     "name": "stdout",
     "output_type": "stream",
     "text": [
      "Total number of SpinRate null values: 13\n",
      "The total number of null equates to: 0.13 %\n"
     ]
    }
   ],
   "source": [
    "x = deploy['SpinRate'].isnull().sum()\n",
    "y = round((x/deploy.shape[0])*100,2)\n",
    "print(f\"Total number of SpinRate null values:\",x)\n",
    "print(f\"The total number of null equates to:\", y, \"%\")"
   ]
  },
  {
   "cell_type": "markdown",
   "id": "eddb8521",
   "metadata": {},
   "source": [
    "For our deploy data, we can see that the null values equate to 0.13% of all total values. Based on this small value we can go forward an remove the rows with the listed null values."
   ]
  },
  {
   "cell_type": "code",
   "execution_count": 23,
   "id": "d45e5210",
   "metadata": {},
   "outputs": [],
   "source": [
    "# drop null values\n",
    "deploy.dropna(inplace=True)"
   ]
  },
  {
   "cell_type": "code",
   "execution_count": 24,
   "id": "1cdc1344",
   "metadata": {},
   "outputs": [],
   "source": [
    "# reset index\n",
    "deploy.reset_index(drop = True, inplace = True)"
   ]
  },
  {
   "cell_type": "code",
   "execution_count": 25,
   "id": "bf123af4",
   "metadata": {},
   "outputs": [
    {
     "name": "stdout",
     "output_type": "stream",
     "text": [
      "<class 'pandas.core.frame.DataFrame'>\n",
      "RangeIndex: 9987 entries, 0 to 9986\n",
      "Data columns (total 4 columns):\n",
      " #   Column            Non-Null Count  Dtype  \n",
      "---  ------            --------------  -----  \n",
      " 0   Velo              9987 non-null   float64\n",
      " 1   SpinRate          9987 non-null   float64\n",
      " 2   HorzBreak         9987 non-null   float64\n",
      " 3   InducedVertBreak  9987 non-null   float64\n",
      "dtypes: float64(4)\n",
      "memory usage: 312.2 KB\n"
     ]
    }
   ],
   "source": [
    "deploy.info()"
   ]
  },
  {
   "cell_type": "markdown",
   "id": "24b53424",
   "metadata": {},
   "source": [
    "Our null values in our deploy data are now removed."
   ]
  },
  {
   "cell_type": "markdown",
   "id": "c57d3f09",
   "metadata": {},
   "source": [
    "#### Verify Duplciate Values"
   ]
  },
  {
   "cell_type": "code",
   "execution_count": 18,
   "id": "7e7ac801",
   "metadata": {},
   "outputs": [
    {
     "name": "stdout",
     "output_type": "stream",
     "text": [
      "Total number of duplicate rows: 0\n",
      "The total number of duplicate rows equates to: 0.0 %\n"
     ]
    }
   ],
   "source": [
    "x = train.duplicated().sum()\n",
    "y = round((x/train.shape[0])*100,2)\n",
    "\n",
    "print(f\"Total number of duplicate rows:\",x)\n",
    "print(f\"The total number of duplicate rows equates to:\", y, \"%\")"
   ]
  },
  {
   "cell_type": "markdown",
   "id": "5de06cb8",
   "metadata": {},
   "source": [
    "There currently are no null values in the train data."
   ]
  },
  {
   "cell_type": "code",
   "execution_count": null,
   "id": "eb16c8a0",
   "metadata": {},
   "outputs": [],
   "source": [
    "x = deploy.duplicated().sum()\n",
    "y = round((x/deploy.shape[0])*100,2)\n",
    "\n",
    "print(f\"Total number of duplicate rows:\",x)\n",
    "print(f\"The total number of duplicate rows equates to:\", y, \"%\")"
   ]
  },
  {
   "cell_type": "code",
   "execution_count": null,
   "id": "30f43538",
   "metadata": {},
   "outputs": [],
   "source": []
  },
  {
   "cell_type": "code",
   "execution_count": null,
   "id": "5a5be249",
   "metadata": {},
   "outputs": [],
   "source": []
  },
  {
   "cell_type": "code",
   "execution_count": 15,
   "id": "e46fd71c",
   "metadata": {},
   "outputs": [
    {
     "name": "stdout",
     "output_type": "stream",
     "text": [
      "# Number of InPlay Values: 2\n",
      "InPlay Values:\n"
     ]
    },
    {
     "data": {
      "text/plain": [
       "array([0, 1])"
      ]
     },
     "execution_count": 15,
     "metadata": {},
     "output_type": "execute_result"
    }
   ],
   "source": [
    "count_unique = train['InPlay'].nunique()\n",
    "print('# Number of InPlay Values:', count_unique) \n",
    "print('InPlay Values:')\n",
    "train['InPlay'].unique()"
   ]
  },
  {
   "cell_type": "code",
   "execution_count": null,
   "id": "307d838d",
   "metadata": {},
   "outputs": [],
   "source": []
  },
  {
   "cell_type": "code",
   "execution_count": null,
   "id": "bf1fc29b",
   "metadata": {},
   "outputs": [],
   "source": []
  },
  {
   "cell_type": "code",
   "execution_count": null,
   "id": "079786a4",
   "metadata": {},
   "outputs": [],
   "source": []
  },
  {
   "cell_type": "code",
   "execution_count": null,
   "id": "3f1eac44",
   "metadata": {},
   "outputs": [],
   "source": []
  },
  {
   "cell_type": "code",
   "execution_count": null,
   "id": "a6cc4dbd",
   "metadata": {},
   "outputs": [],
   "source": []
  },
  {
   "cell_type": "code",
   "execution_count": null,
   "id": "9927dc22",
   "metadata": {},
   "outputs": [],
   "source": []
  },
  {
   "cell_type": "code",
   "execution_count": 8,
   "id": "8644f627",
   "metadata": {},
   "outputs": [],
   "source": [
    "# import deploy data\n",
    "deploy = pd.read_csv('deploy.csv')"
   ]
  },
  {
   "cell_type": "code",
   "execution_count": null,
   "id": "9c8e0775",
   "metadata": {},
   "outputs": [],
   "source": []
  },
  {
   "cell_type": "code",
   "execution_count": null,
   "id": "ffb2c9fd",
   "metadata": {},
   "outputs": [],
   "source": []
  },
  {
   "cell_type": "code",
   "execution_count": null,
   "id": "082d3ec8",
   "metadata": {},
   "outputs": [],
   "source": []
  }
 ],
 "metadata": {
  "kernelspec": {
   "display_name": "Python [conda env:capstone]",
   "language": "python",
   "name": "conda-env-capstone-py"
  },
  "language_info": {
   "codemirror_mode": {
    "name": "ipython",
    "version": 3
   },
   "file_extension": ".py",
   "mimetype": "text/x-python",
   "name": "python",
   "nbconvert_exporter": "python",
   "pygments_lexer": "ipython3",
   "version": "3.8.13"
  }
 },
 "nbformat": 4,
 "nbformat_minor": 5
}
